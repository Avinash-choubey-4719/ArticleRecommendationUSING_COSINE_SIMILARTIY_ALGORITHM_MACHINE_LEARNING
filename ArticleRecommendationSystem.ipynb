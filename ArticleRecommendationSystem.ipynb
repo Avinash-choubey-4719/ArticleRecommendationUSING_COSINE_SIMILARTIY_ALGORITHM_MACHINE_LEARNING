{
 "cells": [
  {
   "cell_type": "code",
   "execution_count": 1,
   "id": "f2f0fda7",
   "metadata": {},
   "outputs": [],
   "source": [
    "import pandas as pd\n",
    "import numpy as np\n",
    "from sklearn.feature_extraction import text"
   ]
  },
  {
   "cell_type": "code",
   "execution_count": 8,
   "id": "a1b796d9",
   "metadata": {},
   "outputs": [],
   "source": [
    "dataFrame = pd.read_csv(\"Articles.csv\", encoding='latin1')"
   ]
  },
  {
   "cell_type": "code",
   "execution_count": 9,
   "id": "18ddbd5e",
   "metadata": {},
   "outputs": [
    {
     "data": {
      "text/html": [
       "<div>\n",
       "<style scoped>\n",
       "    .dataframe tbody tr th:only-of-type {\n",
       "        vertical-align: middle;\n",
       "    }\n",
       "\n",
       "    .dataframe tbody tr th {\n",
       "        vertical-align: top;\n",
       "    }\n",
       "\n",
       "    .dataframe thead th {\n",
       "        text-align: right;\n",
       "    }\n",
       "</style>\n",
       "<table border=\"1\" class=\"dataframe\">\n",
       "  <thead>\n",
       "    <tr style=\"text-align: right;\">\n",
       "      <th></th>\n",
       "      <th>Article</th>\n",
       "      <th>Date</th>\n",
       "      <th>Heading</th>\n",
       "      <th>NewsType</th>\n",
       "    </tr>\n",
       "  </thead>\n",
       "  <tbody>\n",
       "    <tr>\n",
       "      <th>0</th>\n",
       "      <td>KARACHI: The Sindh government has decided to b...</td>\n",
       "      <td>1/1/2015</td>\n",
       "      <td>sindh govt decides to cut public transport far...</td>\n",
       "      <td>business</td>\n",
       "    </tr>\n",
       "    <tr>\n",
       "      <th>1</th>\n",
       "      <td>HONG KONG: Asian markets started 2015 on an up...</td>\n",
       "      <td>1/2/2015</td>\n",
       "      <td>asia stocks up in new year trad</td>\n",
       "      <td>business</td>\n",
       "    </tr>\n",
       "    <tr>\n",
       "      <th>2</th>\n",
       "      <td>HONG KONG:  Hong Kong shares opened 0.66 perce...</td>\n",
       "      <td>1/5/2015</td>\n",
       "      <td>hong kong stocks open 0.66 percent lower</td>\n",
       "      <td>business</td>\n",
       "    </tr>\n",
       "    <tr>\n",
       "      <th>3</th>\n",
       "      <td>HONG KONG: Asian markets tumbled Tuesday follo...</td>\n",
       "      <td>1/6/2015</td>\n",
       "      <td>asian stocks sink euro near nine year</td>\n",
       "      <td>business</td>\n",
       "    </tr>\n",
       "    <tr>\n",
       "      <th>4</th>\n",
       "      <td>NEW YORK: US oil prices Monday slipped below $...</td>\n",
       "      <td>1/6/2015</td>\n",
       "      <td>us oil prices slip below 50 a barr</td>\n",
       "      <td>business</td>\n",
       "    </tr>\n",
       "  </tbody>\n",
       "</table>\n",
       "</div>"
      ],
      "text/plain": [
       "                                             Article      Date  \\\n",
       "0  KARACHI: The Sindh government has decided to b...  1/1/2015   \n",
       "1  HONG KONG: Asian markets started 2015 on an up...  1/2/2015   \n",
       "2  HONG KONG:  Hong Kong shares opened 0.66 perce...  1/5/2015   \n",
       "3  HONG KONG: Asian markets tumbled Tuesday follo...  1/6/2015   \n",
       "4  NEW YORK: US oil prices Monday slipped below $...  1/6/2015   \n",
       "\n",
       "                                             Heading  NewsType  \n",
       "0  sindh govt decides to cut public transport far...  business  \n",
       "1                    asia stocks up in new year trad  business  \n",
       "2           hong kong stocks open 0.66 percent lower  business  \n",
       "3             asian stocks sink euro near nine year   business  \n",
       "4                 us oil prices slip below 50 a barr  business  "
      ]
     },
     "execution_count": 9,
     "metadata": {},
     "output_type": "execute_result"
    }
   ],
   "source": [
    "dataFrame.head()"
   ]
  },
  {
   "cell_type": "code",
   "execution_count": 13,
   "id": "744328b0",
   "metadata": {},
   "outputs": [],
   "source": [
    "articles = dataFrame['Article'].tolist()"
   ]
  },
  {
   "cell_type": "code",
   "execution_count": 14,
   "id": "d84d908c",
   "metadata": {},
   "outputs": [],
   "source": [
    "vectorized = text.TfidfVectorizer(input = articles, stop_words = \"english\")"
   ]
  },
  {
   "cell_type": "code",
   "execution_count": 15,
   "id": "0bfe7945",
   "metadata": {},
   "outputs": [],
   "source": [
    "vectorized = vectorized.fit_transform(articles)"
   ]
  },
  {
   "cell_type": "code",
   "execution_count": 17,
   "id": "3d005429",
   "metadata": {},
   "outputs": [],
   "source": [
    "from sklearn.metrics.pairwise import cosine_similarity"
   ]
  },
  {
   "cell_type": "code",
   "execution_count": 18,
   "id": "d01e55e0",
   "metadata": {},
   "outputs": [],
   "source": [
    "articles = cosine_similarity(vectorized)"
   ]
  },
  {
   "cell_type": "code",
   "execution_count": 19,
   "id": "cd3d912c",
   "metadata": {},
   "outputs": [
    {
     "data": {
      "text/plain": [
       "array([[1.00000000e+00, 1.56505224e-02, 0.00000000e+00, ...,\n",
       "        3.27021386e-02, 7.33248507e-03, 1.61629945e-02],\n",
       "       [1.56505224e-02, 1.00000000e+00, 1.79709311e-01, ...,\n",
       "        1.85810489e-02, 4.94580250e-02, 1.21606301e-02],\n",
       "       [0.00000000e+00, 1.79709311e-01, 1.00000000e+00, ...,\n",
       "        0.00000000e+00, 1.42812510e-02, 5.84479312e-04],\n",
       "       ...,\n",
       "       [3.27021386e-02, 1.85810489e-02, 0.00000000e+00, ...,\n",
       "        1.00000000e+00, 1.61715396e-02, 1.15868753e-02],\n",
       "       [7.33248507e-03, 4.94580250e-02, 1.42812510e-02, ...,\n",
       "        1.61715396e-02, 1.00000000e+00, 3.94617802e-03],\n",
       "       [1.61629945e-02, 1.21606301e-02, 5.84479312e-04, ...,\n",
       "        1.15868753e-02, 3.94617802e-03, 1.00000000e+00]])"
      ]
     },
     "execution_count": 19,
     "metadata": {},
     "output_type": "execute_result"
    }
   ],
   "source": [
    "articles"
   ]
  },
  {
   "cell_type": "code",
   "execution_count": 26,
   "id": "020a3df4",
   "metadata": {},
   "outputs": [],
   "source": [
    "def recommend_articles(x):\n",
    "    return \", \".join(dataFrame[\"Heading\"].loc[x.argsort()[-5:-1]])"
   ]
  },
  {
   "cell_type": "code",
   "execution_count": 27,
   "id": "dd229c45",
   "metadata": {},
   "outputs": [],
   "source": [
    "dataFrame['Recommende Article'] = [recommend_articles(x) for x in articles]"
   ]
  },
  {
   "cell_type": "code",
   "execution_count": 28,
   "id": "89bc5f82",
   "metadata": {},
   "outputs": [
    {
     "data": {
      "text/html": [
       "<div>\n",
       "<style scoped>\n",
       "    .dataframe tbody tr th:only-of-type {\n",
       "        vertical-align: middle;\n",
       "    }\n",
       "\n",
       "    .dataframe tbody tr th {\n",
       "        vertical-align: top;\n",
       "    }\n",
       "\n",
       "    .dataframe thead th {\n",
       "        text-align: right;\n",
       "    }\n",
       "</style>\n",
       "<table border=\"1\" class=\"dataframe\">\n",
       "  <thead>\n",
       "    <tr style=\"text-align: right;\">\n",
       "      <th></th>\n",
       "      <th>Article</th>\n",
       "      <th>Date</th>\n",
       "      <th>Heading</th>\n",
       "      <th>NewsType</th>\n",
       "      <th>Recommende Article</th>\n",
       "    </tr>\n",
       "  </thead>\n",
       "  <tbody>\n",
       "    <tr>\n",
       "      <th>0</th>\n",
       "      <td>KARACHI: The Sindh government has decided to b...</td>\n",
       "      <td>1/1/2015</td>\n",
       "      <td>sindh govt decides to cut public transport far...</td>\n",
       "      <td>business</td>\n",
       "      <td>CNG supply resumes Sindh three day long stri, ...</td>\n",
       "    </tr>\n",
       "    <tr>\n",
       "      <th>1</th>\n",
       "      <td>HONG KONG: Asian markets started 2015 on an up...</td>\n",
       "      <td>1/2/2015</td>\n",
       "      <td>asia stocks up in new year trad</td>\n",
       "      <td>business</td>\n",
       "      <td>asia stocks extend gains tokyo lifted by weak ...</td>\n",
       "    </tr>\n",
       "    <tr>\n",
       "      <th>2</th>\n",
       "      <td>HONG KONG:  Hong Kong shares opened 0.66 perce...</td>\n",
       "      <td>1/5/2015</td>\n",
       "      <td>hong kong stocks open 0.66 percent lower</td>\n",
       "      <td>business</td>\n",
       "      <td>Hong Kong Shanghai stocks open lower, Hong Kon...</td>\n",
       "    </tr>\n",
       "    <tr>\n",
       "      <th>3</th>\n",
       "      <td>HONG KONG: Asian markets tumbled Tuesday follo...</td>\n",
       "      <td>1/6/2015</td>\n",
       "      <td>asian stocks sink euro near nine year</td>\n",
       "      <td>business</td>\n",
       "      <td>asian stocks mostly up after record on wall , ...</td>\n",
       "    </tr>\n",
       "    <tr>\n",
       "      <th>4</th>\n",
       "      <td>NEW YORK: US oil prices Monday slipped below $...</td>\n",
       "      <td>1/6/2015</td>\n",
       "      <td>us oil prices slip below 50 a barr</td>\n",
       "      <td>business</td>\n",
       "      <td>oil rebounds after volatile , Oil edges up on ...</td>\n",
       "    </tr>\n",
       "  </tbody>\n",
       "</table>\n",
       "</div>"
      ],
      "text/plain": [
       "                                             Article      Date  \\\n",
       "0  KARACHI: The Sindh government has decided to b...  1/1/2015   \n",
       "1  HONG KONG: Asian markets started 2015 on an up...  1/2/2015   \n",
       "2  HONG KONG:  Hong Kong shares opened 0.66 perce...  1/5/2015   \n",
       "3  HONG KONG: Asian markets tumbled Tuesday follo...  1/6/2015   \n",
       "4  NEW YORK: US oil prices Monday slipped below $...  1/6/2015   \n",
       "\n",
       "                                             Heading  NewsType  \\\n",
       "0  sindh govt decides to cut public transport far...  business   \n",
       "1                    asia stocks up in new year trad  business   \n",
       "2           hong kong stocks open 0.66 percent lower  business   \n",
       "3             asian stocks sink euro near nine year   business   \n",
       "4                 us oil prices slip below 50 a barr  business   \n",
       "\n",
       "                                  Recommende Article  \n",
       "0  CNG supply resumes Sindh three day long stri, ...  \n",
       "1  asia stocks extend gains tokyo lifted by weak ...  \n",
       "2  Hong Kong Shanghai stocks open lower, Hong Kon...  \n",
       "3  asian stocks mostly up after record on wall , ...  \n",
       "4  oil rebounds after volatile , Oil edges up on ...  "
      ]
     },
     "execution_count": 28,
     "metadata": {},
     "output_type": "execute_result"
    }
   ],
   "source": [
    "dataFrame.head()"
   ]
  },
  {
   "cell_type": "code",
   "execution_count": 32,
   "id": "a01c6236",
   "metadata": {},
   "outputs": [
    {
     "name": "stdout",
     "output_type": "stream",
     "text": [
      "moodys upgrades pakistans credit rating to b3, petrol price expected to be slashed by rs 10 per litr, moodys upgrades pakistan bond rating, sp raises pakistans outlook forecasts higher gr\n"
     ]
    }
   ],
   "source": [
    "print(dataFrame[\"Recommende Article\"][22])"
   ]
  },
  {
   "cell_type": "code",
   "execution_count": null,
   "id": "d7620db3",
   "metadata": {},
   "outputs": [],
   "source": []
  }
 ],
 "metadata": {
  "kernelspec": {
   "display_name": "Python 3 (ipykernel)",
   "language": "python",
   "name": "python3"
  },
  "language_info": {
   "codemirror_mode": {
    "name": "ipython",
    "version": 3
   },
   "file_extension": ".py",
   "mimetype": "text/x-python",
   "name": "python",
   "nbconvert_exporter": "python",
   "pygments_lexer": "ipython3",
   "version": "3.9.12"
  }
 },
 "nbformat": 4,
 "nbformat_minor": 5
}
